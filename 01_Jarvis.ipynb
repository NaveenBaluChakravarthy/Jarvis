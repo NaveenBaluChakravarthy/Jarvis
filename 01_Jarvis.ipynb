{
  "nbformat": 4,
  "nbformat_minor": 0,
  "metadata": {
    "colab": {
      "provenance": []
    },
    "kernelspec": {
      "name": "python3",
      "display_name": "Python 3"
    },
    "language_info": {
      "name": "python"
    }
  },
  "cells": [
    {
      "cell_type": "markdown",
      "source": [
        "### Dependency Setup"
      ],
      "metadata": {
        "id": "0HkuWMhQJrDE"
      }
    },
    {
      "cell_type": "code",
      "execution_count": 4,
      "metadata": {
        "id": "BeHCgP_uJEGh"
      },
      "outputs": [],
      "source": [
        "%%capture\n",
        "!pip install langchain\n",
        "!pip install pypdf\n",
        "!pip install pinecone-client\n",
        "!pip install tiktoken"
      ]
    },
    {
      "cell_type": "markdown",
      "source": [
        "### Imports"
      ],
      "metadata": {
        "id": "r02GaR6-JwUE"
      }
    },
    {
      "cell_type": "code",
      "source": [
        "import os\n",
        "import json\n",
        "import openai\n",
        "import pinecone\n",
        "\n",
        "from langchain.document_loaders import PyPDFLoader\n",
        "from langchain.text_splitter import RecursiveCharacterTextSplitter\n",
        "from langchain.vectorstores import Chroma, Pinecone\n",
        "from langchain.embeddings.openai import OpenAIEmbeddings\n",
        "from langchain.llms import OpenAI\n",
        "from langchain.chains.question_ansering import load_qa_chain"
      ],
      "metadata": {
        "id": "fXNXgOhlJmDk"
      },
      "execution_count": 5,
      "outputs": []
    },
    {
      "cell_type": "markdown",
      "source": [
        "### Helper Functions"
      ],
      "metadata": {
        "id": "eutPwsxcJ3ej"
      }
    },
    {
      "cell_type": "code",
      "source": [
        "# c_root = 'content/drive/MyDrive/Jarvis'"
      ],
      "metadata": {
        "id": "LXqxPq8cJ_4b"
      },
      "execution_count": 6,
      "outputs": []
    },
    {
      "cell_type": "code",
      "source": [
        "def load_config():\n",
        "    config = json.load(open(f'{c_root}/config.json'))\n",
        "    openai.api_key = config['conf_openai_api_key0']\n",
        "    openai.api_type = config['conf_openai_api_type']\n",
        "    openai.api_version = config['conf_openai_api_vers']\n",
        "    openai.api_base = config['conf_openai_api_base']\n",
        "    return config\n",
        "\n",
        "\n",
        "def get_data():\n",
        "    data_loader = PyPDFLoader(f'{c_root}/movie_transcripts.pdf')\n",
        "    data = data_loader.load()\n",
        "    return data\n",
        "\n",
        "\n",
        "def get_and_preprocess_data():\n",
        "    text_splitter = RecursiveCharacterTextSplitter(chunk_size = 2000, chunk_overlap = 100)\n",
        "    texts = text_splitter.split_documents(get_data())\n",
        "    return texts\n",
        "\n",
        "\n",
        "def create_qa_chain(conf, texts):\n",
        "    texts_list_ = [t.page_content for t in texts]\n",
        "\n",
        "    embeddings = OpenAIEmbeddings(openai_api_key = conf['openai_api_key0'])\n",
        "    pinecone.init(api_key = conf['pinecone_api_key0'], environment = conf['pinecone_env'])\n",
        "    docsearch = Pinecone.from_texts(texts_list_, embeddings, index_name = conf['pinecone_idx'])\n",
        "\n",
        "    llm = OpenAI(temperature = 0, openai_api_key = conf['openai_api_key0'])\n",
        "    chain = load_qa_chain(llm, chain_type = \"stuff\")\n",
        "    return docsearch, chain\n",
        "\n",
        "\n",
        "def get_response(docsearch, chain, query):\n",
        "    docs = docsearch.similarity_search(query)\n",
        "    answer = chain.run(input_documents = docs, question = query)\n",
        "    return answer\n",
        "\n",
        "\n",
        "def preprocess_questions(queries):\n",
        "    mapper = json.load(open(f'{c_root}/name_mapper.json'))\n",
        "    processed_queries = list()\n",
        "    for query in queries:\n",
        "        query = [mapper.get(word, word) for word in query.split()]\n",
        "        query = ' '.join(query)\n",
        "        processed_queries.append(query)\n",
        "\n",
        "    return processed_queries\n",
        "\n"
      ],
      "metadata": {
        "id": "hy69keWjJ4lD"
      },
      "execution_count": 7,
      "outputs": []
    },
    {
      "cell_type": "markdown",
      "source": [
        "### Driver"
      ],
      "metadata": {
        "id": "rWrToOP1MXLN"
      }
    },
    {
      "cell_type": "code",
      "source": [
        "conf_params = load_config()\n",
        "split_text = get_and_preprocess_data()\n",
        "searchable_docs, qa_chain = create_qa_chain(conf_params, split_text)"
      ],
      "metadata": {
        "id": "xthTRgISMYg1"
      },
      "execution_count": 8,
      "outputs": []
    },
    {
      "cell_type": "code",
      "source": [
        "questions = [\"Who is the father of Tony Stark?\",\n",
        "             \"What are the other names of Tony Stark?\",\n",
        "             \"What is the soundtrack playing in the background, when Tony Stark was kidnapped by the Ten Rings?\"\n",
        "             ]\n",
        "\n",
        "processed_questions = preprocess_questions(questions)\n",
        "\n",
        "for q in processed_questions:\n",
        "    a = get_response(searchable_docs, qa_chain, q)\n",
        "    print(f'\\nQuestion : {q}\\nAnswer : {a}\\n')"
      ],
      "metadata": {
        "colab": {
          "base_uri": "https://localhost:8080/"
        },
        "id": "hxFUSkTbVYwi",
        "outputId": "75b1b83c-c2ca-4356-c014-83f3ce2892fd"
      },
      "execution_count": 9,
      "outputs": [
        {
          "output_type": "stream",
          "name": "stdout",
          "text": [
            "\n",
            "Question : Who is the father of Tony Stark?\n",
            "Answer : Howard Stark was the father of Tony Stark.\n",
            "\n",
            "\n",
            "Question : What are the other names of Tony Stark?\n",
            "Answer : Anthony Edward Stark, Tony, Iron Man, Merchant of Death are some of the other names of Tony Stark.\n",
            "\n",
            "\n",
            "Question : What is the soundtrack playing in the background, when Tony Stark was kidnapped by the Ten Rings?\n",
            "Answer : Back in Black by AC/DC was playing in the background, when Tony Stark rode in the fun-vee.\n",
            "\n",
            "\n"
          ]
        }
      ]
    }
  ]
}